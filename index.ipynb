{
 "cells": [
  {
   "cell_type": "markdown",
   "metadata": {},
   "source": [
    "# Systems of Linear Equations - Lab\n",
    "\n",
    "## Introduction\n",
    "The following scenarios present problems that can be solved as a system of equations while performing substitutions and eliminations as you saw in the previous lesson.\n",
    "\n",
    "* Solve these problems by hand, showing all the steps to work out the unknown variable values \n",
    "* Verify your answers by showing the calculated values satisfy all equations\n",
    "\n",
    "## Objectives\n",
    "\n",
    "In this lab you will: \n",
    "\n",
    "- Solve a system of equations using elimination and substitution\n",
    "\n",
    "## Exercise 1\n",
    "Jane paid 12 dollars for 4 cups of coffee and 4 cups of tea. 3 cups of coffee cost as much as 2 cups of tea. What would be the total cost of 5 cups of coffee and 5 cups of tea?\n",
    "\n",
    "### Solution\n",
    "\n",
    "> Let $x$ be the unit price of coffee and $y$ be the unit price of tea"
   ]
  },
  {
   "cell_type": "code",
   "execution_count": 2,
   "metadata": {},
   "outputs": [
    {
     "data": {
      "text/plain": [
       "'A) 4x + 4y = 12\\nB) 3x = 2y or 3x - 2y = 0\\nFrom (A):\\n    x = 3 - y\\n    \\nSubstitute y into (B):\\n3(3-y) - 2y = 0\\n9 - 3y - 2y = 6\\ny = 9/5 = 1.8\\n\\nFrom (A):\\n4x + 4(1.8) = 12\\nx = (12-7.2)/4\\nx = 1.2\\n\\nCheck condition 3x = 2y\\n3(1.2) = 2(1.8)\\n3.6 = 3.6 \\n\\n5 Cups of coffee and 5 cups of tea \\n5(1.2) + 5(1.8)\\n= 15 dollars\\n'"
      ]
     },
     "execution_count": 2,
     "metadata": {},
     "output_type": "execute_result"
    }
   ],
   "source": [
    "# Your solution here \n",
    "# Answer: 5 cups of tea and 5 cups of coffee = 15 dollars\n",
    "# x = coffee, y = tea\n",
    "\"\"\"A) 4x + 4y = 12\n",
    "B) 3x = 2y or 3x - 2y = 0\n",
    "From (A):\n",
    "    x = 3 - y\n",
    "    \n",
    "Substitute y into (B):\n",
    "3(3-y) - 2y = 0\n",
    "9 - 3y - 2y = 6\n",
    "y = 9/5 = 1.8\n",
    "\n",
    "From (A):\n",
    "4x + 4(1.8) = 12\n",
    "x = (12-7.2)/4\n",
    "x = 1.2\n",
    "\n",
    "Check condition 3x = 2y\n",
    "3(1.2) = 2(1.8)\n",
    "3.6 = 3.6 \n",
    "\n",
    "5 Cups of coffee and 5 cups of tea \n",
    "5(1.2) + 5(1.8)\n",
    "= 15 dollars\n",
    "\"\"\"\n",
    "\n"
   ]
  },
  {
   "cell_type": "markdown",
   "metadata": {},
   "source": [
    "## Exercise 2\n",
    "\n",
    "Jim has more money than Bob. If Jim gave Bob 20 dollars, they would have the same amount. If Bob gave Jim 22 dollars, however, Jim would then have twice as much as Bob. \n",
    "\n",
    "How much does each one actually have?\n",
    "\n",
    "### Solution\n",
    "> Let x be the amount of money that Jim has and y be the amount that Bob has "
   ]
  },
  {
   "cell_type": "code",
   "execution_count": 3,
   "metadata": {},
   "outputs": [
    {
     "data": {
      "text/plain": [
       "\"\\n# Your solution here \\n# Answer:\\n# y = 106 (Bob's amount)\\n# x = 146 (Jim's amount)\\nIf Jim gave Bob 20 dollars:\\nx - 20 = y + 20\\nIf Bob gave Jim 22 dollars:\\nx + 22 = 2(y - 22)\\n\\nFrom (1):\\nx = y + 40 (3)\\n\\nSub x in (2):\\ny + 40 + 22 = 2(y - 22)\\n\\ny = 106 (bob's amount)\\n\\nFrom (3):\\nx = 106 + 40\\n\\nx = 146 (jim's amount)\\n\\n\""
      ]
     },
     "execution_count": 3,
     "metadata": {},
     "output_type": "execute_result"
    }
   ],
   "source": [
    "\"\"\"\n",
    "# Your solution here \n",
    "# Answer:\n",
    "# y = 106 (Bob's amount)\n",
    "# x = 146 (Jim's amount)\n",
    "If Jim gave Bob 20 dollars:\n",
    "x - 20 = y + 20\n",
    "If Bob gave Jim 22 dollars:\n",
    "x + 22 = 2(y - 22)\n",
    "\n",
    "From (1):\n",
    "x = y + 40 (3)\n",
    "\n",
    "Sub x in (2):\n",
    "y + 40 + 22 = 2(y - 22)\n",
    "\n",
    "y = 106 (bob's amount)\n",
    "\n",
    "From (3):\n",
    "x = 106 + 40\n",
    "\n",
    "x = 146 (jim's amount)\n",
    "\n",
    "\"\"\""
   ]
  },
  {
   "cell_type": "markdown",
   "metadata": {},
   "source": [
    "## Exercise 3\n",
    "\n",
    "Mia has 30 coins, consisting of quarters (25 cents) and dimes (10 cents), which totals to the amount 5.70 dollars.  \n",
    "How many of each does she have?\n",
    "\n",
    "### Solution\n",
    "\n",
    "> Let x be the number of quarters and y be the number of dimes "
   ]
  },
  {
   "cell_type": "code",
   "execution_count": 4,
   "metadata": {},
   "outputs": [
    {
     "data": {
      "text/plain": [
       "'\\n# Your solution here \\n# Answer:\\n# x = 18 quarters\\n# y = 12 dimes\\n\\n1) x + y = 30\\n2) .25x + .1y = 5.7\\nTo eliminate y, multiply (1) by -10 and (2) by 100:\\n\\n3) -10x - 10y = -300\\n4) 25x + 10y = 570\\n\\nAdd (3) and (4):\\n15x = 270\\nx = 18\\n\\nTherefore,\\ny = 30 - 18 = 12\\n\\n'"
      ]
     },
     "execution_count": 4,
     "metadata": {},
     "output_type": "execute_result"
    }
   ],
   "source": [
    "\"\"\"\n",
    "# Your solution here \n",
    "# Answer:\n",
    "# x = 18 quarters\n",
    "# y = 12 dimes\n",
    "\n",
    "1) x + y = 30\n",
    "2) .25x + .1y = 5.7\n",
    "To eliminate y, multiply (1) by -10 and (2) by 100:\n",
    "\n",
    "3) -10x - 10y = -300\n",
    "4) 25x + 10y = 570\n",
    "\n",
    "Add (3) and (4):\n",
    "15x = 270\n",
    "x = 18\n",
    "\n",
    "Therefore,\n",
    "y = 30 - 18 = 12\n",
    "\n",
    "\"\"\""
   ]
  },
  {
   "cell_type": "markdown",
   "metadata": {},
   "source": [
    "## Level up (Optional)\n",
    "For more practice with linear equations, visit the following links for more complex equations:\n",
    "\n",
    "* https://www.transum.org/software/SW/Starter_of_the_day/Students/Simultaneous_Equations.asp?Level=6\n",
    "* https://www.transum.org/software/SW/Starter_of_the_day/Students/Simultaneous_Equations.asp?Level=7\n",
    "\n",
    "## Summary\n",
    "\n",
    "In this lesson, you learned how to solve linear equations by hand to find the coefficient values. You'll now move forward to have a deeper look into vectors and matrices and how Python and NumPy can help us solve more complex equations in an analytical context. "
   ]
  }
 ],
 "metadata": {
  "kernelspec": {
   "display_name": "Python 3",
   "language": "python",
   "name": "python3"
  },
  "language_info": {
   "codemirror_mode": {
    "name": "ipython",
    "version": 3
   },
   "file_extension": ".py",
   "mimetype": "text/x-python",
   "name": "python",
   "nbconvert_exporter": "python",
   "pygments_lexer": "ipython3",
   "version": "3.7.4"
  }
 },
 "nbformat": 4,
 "nbformat_minor": 2
}
